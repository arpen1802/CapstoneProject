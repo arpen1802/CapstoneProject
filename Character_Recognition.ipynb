{
  "nbformat": 4,
  "nbformat_minor": 0,
  "metadata": {
    "colab": {
      "name": "Character_recognition.ipynb",
      "provenance": [],
      "collapsed_sections": []
    },
    "kernelspec": {
      "name": "python3",
      "display_name": "Python 3"
    }
  },
  "cells": [
    {
      "cell_type": "code",
      "metadata": {
        "id": "Iq1b9KgAkumC",
        "colab_type": "code",
        "colab": {
          "base_uri": "https://localhost:8080/",
          "height": 34
        },
        "outputId": "bb485ca8-e974-4c78-ad6e-4029c89831ed"
      },
      "source": [
        "import tensorflow as tf\n",
        "from keras.utils import np_utils\n",
        "import numpy as np\n",
        "from sklearn.model_selection import train_test_split\n",
        "import matplotlib.pyplot as plt"
      ],
      "execution_count": 1,
      "outputs": [
        {
          "output_type": "stream",
          "text": [
            "Using TensorFlow backend.\n"
          ],
          "name": "stderr"
        }
      ]
    },
    {
      "cell_type": "code",
      "metadata": {
        "id": "UqL7ZSy9WSX4",
        "colab_type": "code",
        "colab": {}
      },
      "source": [
        "#Initialize train, val and test arrays\n",
        "x_train = np.empty([1,28,28], dtype=\"uint8\")\n",
        "y_train = np.empty(1, dtype=\"uint8\")\n",
        "x_val = np.empty([1,28,28], dtype=\"uint8\")\n",
        "y_val = np.empty(1, dtype=\"uint8\")\n",
        "x_test = np.empty([1,28,28], dtype=\"uint8\")\n",
        "y_test = np.empty(1, dtype=\"uint8\")"
      ],
      "execution_count": 0,
      "outputs": []
    },
    {
      "cell_type": "code",
      "metadata": {
        "id": "raY6TY7wACdI",
        "colab_type": "code",
        "outputId": "b932cd99-7b1e-40e9-948f-62178a209a56",
        "colab": {
          "base_uri": "https://localhost:8080/",
          "height": 122
        }
      },
      "source": [
        "from google.colab import drive\n",
        "drive.mount('/content/gdrive')"
      ],
      "execution_count": 3,
      "outputs": [
        {
          "output_type": "stream",
          "text": [
            "Go to this URL in a browser: https://accounts.google.com/o/oauth2/auth?client_id=947318989803-6bn6qk8qdgf4n4g3pfee6491hc0brc4i.apps.googleusercontent.com&redirect_uri=urn%3aietf%3awg%3aoauth%3a2.0%3aoob&response_type=code&scope=email%20https%3a%2f%2fwww.googleapis.com%2fauth%2fdocs.test%20https%3a%2f%2fwww.googleapis.com%2fauth%2fdrive%20https%3a%2f%2fwww.googleapis.com%2fauth%2fdrive.photos.readonly%20https%3a%2f%2fwww.googleapis.com%2fauth%2fpeopleapi.readonly\n",
            "\n",
            "Enter your authorization code:\n",
            "··········\n",
            "Mounted at /content/gdrive\n"
          ],
          "name": "stdout"
        }
      ]
    },
    {
      "cell_type": "code",
      "metadata": {
        "id": "vJPfCqsfFGaY",
        "colab_type": "code",
        "colab": {}
      },
      "source": [
        "#!unzip -uq \"path/folder(0)\" -d \"path/\""
      ],
      "execution_count": 0,
      "outputs": []
    },
    {
      "cell_type": "code",
      "metadata": {
        "id": "axy8MOPYd0vQ",
        "colab_type": "code",
        "colab": {}
      },
      "source": [
        "import os\n",
        "from PIL import Image\n",
        "\n",
        "def load_images_to_data(image_label, image_directory, features_data, label_data, ext):\n",
        "    list_of_files = os.listdir(image_directory)\n",
        "    for file in list_of_files:\n",
        "        image_file_name = image_directory + \"/\" + file\n",
        "        if ext in image_file_name:\n",
        "            img = Image.open(image_file_name).convert(\"L\")\n",
        "            img = np.resize(img, (28,28,1))\n",
        "            im2arr = np.array(img)\n",
        "            im2arr = im2arr.reshape(1,28,28,1)\n",
        "            features_data = np.append(features_data, np.squeeze(im2arr,axis=3), axis=0)\n",
        "            label_data = np.append(label_data, [image_label], axis=0)\n",
        "    return features_data, label_data"
      ],
      "execution_count": 0,
      "outputs": []
    },
    {
      "cell_type": "code",
      "metadata": {
        "id": "WBVXxDZpQxax",
        "colab_type": "code",
        "colab": {}
      },
      "source": [
        "letter_dict = {\n",
        "    \"10\" : \"A\",\n",
        "    \"11\" : \"B\",\n",
        "    \"12\" : \"C\",\n",
        "    \"13\" : \"D\",\n",
        "    \"14\" : \"E\",\n",
        "    \"15\" : \"F\",\n",
        "    \"16\" : \"G\",\n",
        "    \"17\" : \"H\",\n",
        "    \"18\" : \"I\",\n",
        "    \"19\" : \"J\",\n",
        "    \"20\" : \"K\",\n",
        "    \"21\" : \"L\",\n",
        "    \"22\" : \"M\",\n",
        "    \"23\" : \"N\",\n",
        "    \"24\" : \"O\",\n",
        "    \"25\" : \"P\",\n",
        "    \"26\" : \"Q\",\n",
        "    \"27\" : \"R\",\n",
        "    \"28\" : \"S\",\n",
        "    \"29\" : \"T\",\n",
        "    \"30\" : \"U\",\n",
        "    \"31\" : \"V\",\n",
        "    \"32\" : \"W\",\n",
        "    \"33\" : \"X\",\n",
        "    \"34\" : \"Y\",\n",
        "    \"35\" : \"Z\",\n",
        "}"
      ],
      "execution_count": 0,
      "outputs": []
    },
    {
      "cell_type": "code",
      "metadata": {
        "id": "V2kj81vRaxVu",
        "colab_type": "code",
        "colab": {}
      },
      "source": [
        "test_letter_dict = {\n",
        "    \"10\" : \"A\",\n",
        "    \"11\" : \"B\",\n",
        "    \"12\" : \"C\",\n",
        "    \"13\" : \"D\",\n",
        "    \"14\" : \"E\",\n",
        "    \"15\" : \"F\",\n",
        "    \"16\" : \"G\",\n",
        "    \"17\" : \"H\",\n",
        "    \"18\" : \"I\",\n",
        "    \"19\" : \"J\",\n",
        "    \"21\" : \"L\",\n",
        "    \"22\" : \"M\",\n",
        "    \"23\" : \"N\",\n",
        "    \"25\" : \"P\",\n",
        "    \"27\" : \"R\",\n",
        "    \"28\" : \"S\",\n",
        "    \"29\" : \"T\",\n",
        "    \"31\" : \"V\",\n",
        "    \"33\" : \"X\",\n",
        "    \"35\" : \"Z\",\n",
        "}"
      ],
      "execution_count": 0,
      "outputs": []
    },
    {
      "cell_type": "code",
      "metadata": {
        "id": "ofpH55ZcWaqL",
        "colab_type": "code",
        "colab": {}
      },
      "source": [
        "dir_train = \"/content/gdrive/My Drive/Recognition_Dataset_Train/\"\n",
        "dir_val = \"/content/gdrive/My Drive/Recognition_Dataset_Validation/\"\n",
        "dir_test = \"/content/gdrive/My Drive/Recognition_Dataset_Test/\""
      ],
      "execution_count": 0,
      "outputs": []
    },
    {
      "cell_type": "code",
      "metadata": {
        "id": "hT7rCWAqQzZm",
        "colab_type": "code",
        "colab": {}
      },
      "source": [
        "for i in letter_dict.keys():\n",
        "  x_train, y_train = load_images_to_data(i, dir_train + letter_dict[i], x_train, y_train, \".jpg\")\n",
        "  x_val, y_val = load_images_to_data(i, dir_val + letter_dict[i], x_val, y_val, \".jpg\")"
      ],
      "execution_count": 0,
      "outputs": []
    },
    {
      "cell_type": "code",
      "metadata": {
        "id": "udAXrlzBWRAS",
        "colab_type": "code",
        "colab": {}
      },
      "source": [
        "for i in range(10):\n",
        "  x_train, y_train = load_images_to_data(str(i), dir_train + str(i), x_train, y_train, \".jpg\")\n",
        "  x_val, y_val = load_images_to_data(str(i), dir_val + str(i), x_val, y_val, \".jpg\")\n",
        "  x_test, y_test = load_images_to_data(str(i), dir_test + str(i), x_test, y_test, \".png\")"
      ],
      "execution_count": 0,
      "outputs": []
    },
    {
      "cell_type": "code",
      "metadata": {
        "id": "bozPFo2va66a",
        "colab_type": "code",
        "colab": {}
      },
      "source": [
        "for i in test_letter_dict.keys():\n",
        "  x_test, y_test = load_images_to_data(i, dir_test + letter_dict[i], x_test, y_test, \".png\")"
      ],
      "execution_count": 0,
      "outputs": []
    },
    {
      "cell_type": "code",
      "metadata": {
        "id": "emg4rOyO0src",
        "colab_type": "code",
        "colab": {}
      },
      "source": [
        "xt_orig = x_train\n",
        "yt_orig = y_train\n",
        "xv_orig = x_val\n",
        "yv_orig = y_val\n",
        "x_orig = x_test\n",
        "y_orig = y_test"
      ],
      "execution_count": 0,
      "outputs": []
    },
    {
      "cell_type": "code",
      "metadata": {
        "id": "VCMn29qZDf2c",
        "colab_type": "code",
        "colab": {}
      },
      "source": [
        "x_train = xt_orig\n",
        "y_train = yt_orig\n",
        "x_val = xv_orig\n",
        "y_val = yv_orig\n",
        "x_test = x_orig\n",
        "y_test = y_orig"
      ],
      "execution_count": 0,
      "outputs": []
    },
    {
      "cell_type": "code",
      "metadata": {
        "id": "u2FY7MH5k0Oz",
        "colab_type": "code",
        "outputId": "ef609792-528e-4c1c-9863-79607b5436cc",
        "colab": {
          "base_uri": "https://localhost:8080/",
          "height": 299
        }
      },
      "source": [
        "image_index = 120 \n",
        "print(y_train[image_index]) \n",
        "plt.imshow(x_train[image_index], cmap='Greys')"
      ],
      "execution_count": 12,
      "outputs": [
        {
          "output_type": "stream",
          "text": [
            "10\n"
          ],
          "name": "stdout"
        },
        {
          "output_type": "execute_result",
          "data": {
            "text/plain": [
              "<matplotlib.image.AxesImage at 0x7f20f6a8e470>"
            ]
          },
          "metadata": {
            "tags": []
          },
          "execution_count": 12
        },
        {
          "output_type": "display_data",
          "data": {
            "image/png": "[encoded data removed]",
            "text/plain": [
              "<Figure size 432x288 with 1 Axes>"
            ]
          },
          "metadata": {
            "tags": [],
            "needs_background": "light"
          }
        }
      ]
    },
    {
      "cell_type": "code",
      "metadata": {
        "id": "mluvOuFik6Jn",
        "colab_type": "code",
        "outputId": "08bfbfb2-7e28-4ee0-cdfc-c803dc9f49a1",
        "colab": {
          "base_uri": "https://localhost:8080/",
          "height": 85
        }
      },
      "source": [
        "print(x_train.shape)\n",
        "print(y_train.shape)\n",
        "print(x_val.shape)\n",
        "print(y_val.shape)"
      ],
      "execution_count": 0,
      "outputs": [
        {
          "output_type": "stream",
          "text": [
            "(29233, 28, 28)\n",
            "(29233,)\n",
            "(7345, 28, 28)\n",
            "(7345,)\n"
          ],
          "name": "stdout"
        }
      ]
    },
    {
      "cell_type": "code",
      "metadata": {
        "id": "_m6uprfI6oC4",
        "colab_type": "code",
        "outputId": "f21c4732-8d1b-4f61-a4d2-51e59a9cbef0",
        "colab": {
          "base_uri": "https://localhost:8080/",
          "height": 51
        }
      },
      "source": [
        "print(x_test.shape)\n",
        "print(y_test.shape)"
      ],
      "execution_count": 0,
      "outputs": [
        {
          "output_type": "stream",
          "text": [
            "(2979, 28, 28)\n",
            "(2979,)\n"
          ],
          "name": "stdout"
        }
      ]
    },
    {
      "cell_type": "code",
      "metadata": {
        "id": "2Pm1zvg_k_SZ",
        "colab_type": "code",
        "outputId": "9277fcab-1319-4f9d-81a8-48136440bc3b",
        "colab": {
          "base_uri": "https://localhost:8080/",
          "height": 68
        }
      },
      "source": [
        "# Reshaping the array to 4-dims so that it can work with the Keras API\n",
        "x_train = x_train.reshape(x_train.shape[0], 28, 28, 1)\n",
        "x_val = x_val.reshape(x_val.shape[0], 28, 28, 1)\n",
        "input_shape = (28, 28, 1)\n",
        "# Making sure that the values are float so that we can get decimal points after division\n",
        "x_train = x_train.astype('float32')\n",
        "x_val = x_val.astype('float32')\n",
        "# Normalizing the RGB codes by dividing it to the max RGB value.\n",
        "x_train /= 255\n",
        "x_val /= 255\n",
        "print('x_train shape:', x_train.shape)\n",
        "print('Number of images in x_train', x_train.shape[0])\n",
        "print('Number of images in x_val', x_val.shape[0])"
      ],
      "execution_count": 0,
      "outputs": [
        {
          "output_type": "stream",
          "text": [
            "x_train shape: (29233, 28, 28, 1)\n",
            "Number of images in x_train 29233\n",
            "Number of images in x_val 7345\n"
          ],
          "name": "stdout"
        }
      ]
    },
    {
      "cell_type": "code",
      "metadata": {
        "id": "qW24XFiWlChu",
        "colab_type": "code",
        "colab": {}
      },
      "source": [
        "from keras.models import Sequential\n",
        "from keras.layers import Dense, Conv2D, Dropout, Flatten, MaxPooling2D\n",
        "# Creating a Sequential Model and adding the layers\n",
        "def create_model():\n",
        "  model = Sequential()\n",
        "  model.add(Conv2D(filters=64, kernel_size=2, padding='same', activation='relu', input_shape=(28,28,1))) \n",
        "  model.add(MaxPooling2D(pool_size=2))\n",
        "  model.add(Dropout(0.3))\n",
        "  model.add(Conv2D(filters=32, kernel_size=2, padding='same', activation='relu'))\n",
        "  model.add(MaxPooling2D(pool_size=2))\n",
        "  model.add(Dropout(0.3))\n",
        "  model.add(Flatten())\n",
        "  model.add(Dense(256, activation='relu'))\n",
        "  model.add(Dropout(0.5))\n",
        "  model.add(Dense(36,activation=tf.nn.softmax))\n",
        "  return model"
      ],
      "execution_count": 0,
      "outputs": []
    },
    {
      "cell_type": "code",
      "metadata": {
        "id": "cNH1CA1ZOM7T",
        "colab_type": "code",
        "outputId": "41e66798-b695-4bf0-f9ec-e5aa8795cf30",
        "colab": {
          "base_uri": "https://localhost:8080/",
          "height": 493
        }
      },
      "source": [
        "model = create_model()\n",
        "model.summary()"
      ],
      "execution_count": 0,
      "outputs": [
        {
          "output_type": "stream",
          "text": [
            "Model: \"sequential_6\"\n",
            "_________________________________________________________________\n",
            "Layer (type)                 Output Shape              Param #   \n",
            "=================================================================\n",
            "conv2d_11 (Conv2D)           (None, 28, 28, 64)        320       \n",
            "_________________________________________________________________\n",
            "max_pooling2d_11 (MaxPooling (None, 14, 14, 64)        0         \n",
            "_________________________________________________________________\n",
            "dropout_16 (Dropout)         (None, 14, 14, 64)        0         \n",
            "_________________________________________________________________\n",
            "conv2d_12 (Conv2D)           (None, 14, 14, 32)        8224      \n",
            "_________________________________________________________________\n",
            "max_pooling2d_12 (MaxPooling (None, 7, 7, 32)          0         \n",
            "_________________________________________________________________\n",
            "dropout_17 (Dropout)         (None, 7, 7, 32)          0         \n",
            "_________________________________________________________________\n",
            "flatten_6 (Flatten)          (None, 1568)              0         \n",
            "_________________________________________________________________\n",
            "dense_11 (Dense)             (None, 256)               401664    \n",
            "_________________________________________________________________\n",
            "dropout_18 (Dropout)         (None, 256)               0         \n",
            "_________________________________________________________________\n",
            "dense_12 (Dense)             (None, 36)                9252      \n",
            "=================================================================\n",
            "Total params: 419,460\n",
            "Trainable params: 419,460\n",
            "Non-trainable params: 0\n",
            "_________________________________________________________________\n"
          ],
          "name": "stdout"
        }
      ]
    },
    {
      "cell_type": "code",
      "metadata": {
        "id": "LgY3g669lGbb",
        "colab_type": "code",
        "outputId": "7339c5d9-2870-453d-9577-55bd185274a6",
        "colab": {
          "base_uri": "https://localhost:8080/",
          "height": 1000
        }
      },
      "source": [
        "from keras.callbacks import ModelCheckpoint\n",
        "model.compile(optimizer='adam', \n",
        "              loss='sparse_categorical_crossentropy', \n",
        "              metrics=['accuracy'])\n",
        "checkpoint_path = \"/content/gdrive/My Drive/Checkpoints_EMNIST/cp4.ckpt\"\n",
        "checkpoint_dir = \"/content/gdrive/My Drive/Checkpoints_EMNIST/cp4.ckpt\"\n",
        "cp_callback = ModelCheckpoint(filepath=checkpoint_path, save_weights_only=True, verbose=1)\n",
        "history = model.fit(x=x_train,y=y_train, batch_size=1024, epochs=100, validation_data=(x_val, y_val), callbacks=[cp_callback], shuffle=True)"
      ],
      "execution_count": 0,
      "outputs": [
        {
          "output_type": "stream",
          "text": [
            "Train on 29233 samples, validate on 7345 samples\n",
            "Epoch 1/100\n",
            "29233/29233 [==============================] - 31s 1ms/step - loss: 2.6605 - accuracy: 0.2888 - val_loss: 1.2041 - val_accuracy: 0.7325\n",
            "\n",
            "Epoch 00001: saving model to /content/gdrive/My Drive/Checkpoints_EMNIST/cp4.ckpt\n",
            "Epoch 2/100\n",
            "29233/29233 [==============================] - 30s 1ms/step - loss: 1.2152 - accuracy: 0.6696 - val_loss: 0.6276 - val_accuracy: 0.8474\n",
            "\n",
            "Epoch 00002: saving model to /content/gdrive/My Drive/Checkpoints_EMNIST/cp4.ckpt\n",
            "Epoch 3/100\n",
            "29233/29233 [==============================] - 30s 1ms/step - loss: 0.8567 - accuracy: 0.7674 - val_loss: 0.4895 - val_accuracy: 0.8752\n",
            "\n",
            "Epoch 00003: saving model to /content/gdrive/My Drive/Checkpoints_EMNIST/cp4.ckpt\n",
            "Epoch 4/100\n",
            "29233/29233 [==============================] - 30s 1ms/step - loss: 0.7158 - accuracy: 0.8083 - val_loss: 0.4216 - val_accuracy: 0.8888\n",
            "\n",
            "Epoch 00004: saving model to /content/gdrive/My Drive/Checkpoints_EMNIST/cp4.ckpt\n",
            "Epoch 5/100\n",
            "29233/29233 [==============================] - 30s 1ms/step - loss: 0.6370 - accuracy: 0.8289 - val_loss: 0.3738 - val_accuracy: 0.8980\n",
            "\n",
            "Epoch 00005: saving model to /content/gdrive/My Drive/Checkpoints_EMNIST/cp4.ckpt\n",
            "Epoch 6/100\n",
            "29233/29233 [==============================] - 30s 1ms/step - loss: 0.5659 - accuracy: 0.8457 - val_loss: 0.3444 - val_accuracy: 0.9104\n",
            "\n",
            "Epoch 00006: saving model to /content/gdrive/My Drive/Checkpoints_EMNIST/cp4.ckpt\n",
            "Epoch 7/100\n",
            "29233/29233 [==============================] - 30s 1ms/step - loss: 0.5243 - accuracy: 0.8554 - val_loss: 0.3145 - val_accuracy: 0.9156\n",
            "\n",
            "Epoch 00007: saving model to /content/gdrive/My Drive/Checkpoints_EMNIST/cp4.ckpt\n",
            "Epoch 8/100\n",
            "29233/29233 [==============================] - 30s 1ms/step - loss: 0.4815 - accuracy: 0.8642 - val_loss: 0.2953 - val_accuracy: 0.9213\n",
            "\n",
            "Epoch 00008: saving model to /content/gdrive/My Drive/Checkpoints_EMNIST/cp4.ckpt\n",
            "Epoch 9/100\n",
            "29233/29233 [==============================] - 30s 1ms/step - loss: 0.4519 - accuracy: 0.8721 - val_loss: 0.2752 - val_accuracy: 0.9265\n",
            "\n",
            "Epoch 00009: saving model to /content/gdrive/My Drive/Checkpoints_EMNIST/cp4.ckpt\n",
            "Epoch 10/100\n",
            "29233/29233 [==============================] - 35s 1ms/step - loss: 0.4205 - accuracy: 0.8796 - val_loss: 0.2601 - val_accuracy: 0.9288\n",
            "\n",
            "Epoch 00010: saving model to /content/gdrive/My Drive/Checkpoints_EMNIST/cp4.ckpt\n",
            "Epoch 11/100\n",
            "29233/29233 [==============================] - 31s 1ms/step - loss: 0.3956 - accuracy: 0.8867 - val_loss: 0.2422 - val_accuracy: 0.9332\n",
            "\n",
            "Epoch 00011: saving model to /content/gdrive/My Drive/Checkpoints_EMNIST/cp4.ckpt\n",
            "Epoch 12/100\n",
            "29233/29233 [==============================] - 30s 1ms/step - loss: 0.3724 - accuracy: 0.8910 - val_loss: 0.2340 - val_accuracy: 0.9326\n",
            "\n",
            "Epoch 00012: saving model to /content/gdrive/My Drive/Checkpoints_EMNIST/cp4.ckpt\n",
            "Epoch 13/100\n",
            "29233/29233 [==============================] - 30s 1ms/step - loss: 0.3626 - accuracy: 0.8940 - val_loss: 0.2236 - val_accuracy: 0.9364\n",
            "\n",
            "Epoch 00013: saving model to /content/gdrive/My Drive/Checkpoints_EMNIST/cp4.ckpt\n",
            "Epoch 14/100\n",
            "29233/29233 [==============================] - 30s 1ms/step - loss: 0.3401 - accuracy: 0.8995 - val_loss: 0.2117 - val_accuracy: 0.9416\n",
            "\n",
            "Epoch 00014: saving model to /content/gdrive/My Drive/Checkpoints_EMNIST/cp4.ckpt\n",
            "Epoch 15/100\n",
            "29233/29233 [==============================] - 30s 1ms/step - loss: 0.3218 - accuracy: 0.9050 - val_loss: 0.2062 - val_accuracy: 0.9415\n",
            "\n",
            "Epoch 00015: saving model to /content/gdrive/My Drive/Checkpoints_EMNIST/cp4.ckpt\n",
            "Epoch 16/100\n",
            "29233/29233 [==============================] - 30s 1ms/step - loss: 0.3131 - accuracy: 0.9065 - val_loss: 0.1972 - val_accuracy: 0.9446\n",
            "\n",
            "Epoch 00016: saving model to /content/gdrive/My Drive/Checkpoints_EMNIST/cp4.ckpt\n",
            "Epoch 17/100\n",
            "29233/29233 [==============================] - 30s 1ms/step - loss: 0.3011 - accuracy: 0.9103 - val_loss: 0.1900 - val_accuracy: 0.9466\n",
            "\n",
            "Epoch 00017: saving model to /content/gdrive/My Drive/Checkpoints_EMNIST/cp4.ckpt\n",
            "Epoch 18/100\n",
            "29233/29233 [==============================] - 30s 1ms/step - loss: 0.2963 - accuracy: 0.9134 - val_loss: 0.1857 - val_accuracy: 0.9489\n",
            "\n",
            "Epoch 00018: saving model to /content/gdrive/My Drive/Checkpoints_EMNIST/cp4.ckpt\n",
            "Epoch 19/100\n",
            "29233/29233 [==============================] - 30s 1ms/step - loss: 0.2781 - accuracy: 0.9168 - val_loss: 0.1792 - val_accuracy: 0.9502\n",
            "\n",
            "Epoch 00019: saving model to /content/gdrive/My Drive/Checkpoints_EMNIST/cp4.ckpt\n",
            "Epoch 20/100\n",
            "29233/29233 [==============================] - 30s 1ms/step - loss: 0.2733 - accuracy: 0.9176 - val_loss: 0.1721 - val_accuracy: 0.9523\n",
            "\n",
            "Epoch 00020: saving model to /content/gdrive/My Drive/Checkpoints_EMNIST/cp4.ckpt\n",
            "Epoch 21/100\n",
            "29233/29233 [==============================] - 30s 1ms/step - loss: 0.2663 - accuracy: 0.9179 - val_loss: 0.1669 - val_accuracy: 0.9530\n",
            "\n",
            "Epoch 00021: saving model to /content/gdrive/My Drive/Checkpoints_EMNIST/cp4.ckpt\n",
            "Epoch 22/100\n",
            "29233/29233 [==============================] - 30s 1ms/step - loss: 0.2548 - accuracy: 0.9214 - val_loss: 0.1626 - val_accuracy: 0.9547\n",
            "\n",
            "Epoch 00022: saving model to /content/gdrive/My Drive/Checkpoints_EMNIST/cp4.ckpt\n",
            "Epoch 23/100\n",
            "29233/29233 [==============================] - 30s 1ms/step - loss: 0.2471 - accuracy: 0.9239 - val_loss: 0.1601 - val_accuracy: 0.9556\n",
            "\n",
            "Epoch 00023: saving model to /content/gdrive/My Drive/Checkpoints_EMNIST/cp4.ckpt\n",
            "Epoch 24/100\n",
            "29233/29233 [==============================] - 30s 1ms/step - loss: 0.2391 - accuracy: 0.9265 - val_loss: 0.1553 - val_accuracy: 0.9559\n",
            "\n",
            "Epoch 00024: saving model to /content/gdrive/My Drive/Checkpoints_EMNIST/cp4.ckpt\n",
            "Epoch 25/100\n",
            "29233/29233 [==============================] - 30s 1ms/step - loss: 0.2331 - accuracy: 0.9271 - val_loss: 0.1534 - val_accuracy: 0.9556\n",
            "\n",
            "Epoch 00025: saving model to /content/gdrive/My Drive/Checkpoints_EMNIST/cp4.ckpt\n",
            "Epoch 26/100\n",
            "29233/29233 [==============================] - 30s 1ms/step - loss: 0.2278 - accuracy: 0.9281 - val_loss: 0.1504 - val_accuracy: 0.9567\n",
            "\n",
            "Epoch 00026: saving model to /content/gdrive/My Drive/Checkpoints_EMNIST/cp4.ckpt\n",
            "Epoch 27/100\n",
            "29233/29233 [==============================] - 30s 1ms/step - loss: 0.2240 - accuracy: 0.9287 - val_loss: 0.1455 - val_accuracy: 0.9586\n",
            "\n",
            "Epoch 00027: saving model to /content/gdrive/My Drive/Checkpoints_EMNIST/cp4.ckpt\n",
            "Epoch 28/100\n",
            "29233/29233 [==============================] - 30s 1ms/step - loss: 0.2223 - accuracy: 0.9299 - val_loss: 0.1423 - val_accuracy: 0.9612\n",
            "\n",
            "Epoch 00028: saving model to /content/gdrive/My Drive/Checkpoints_EMNIST/cp4.ckpt\n",
            "Epoch 29/100\n",
            "29233/29233 [==============================] - 30s 1ms/step - loss: 0.2138 - accuracy: 0.9326 - val_loss: 0.1388 - val_accuracy: 0.9601\n",
            "\n",
            "Epoch 00029: saving model to /content/gdrive/My Drive/Checkpoints_EMNIST/cp4.ckpt\n",
            "Epoch 30/100\n",
            "29233/29233 [==============================] - 33s 1ms/step - loss: 0.2054 - accuracy: 0.9349 - val_loss: 0.1364 - val_accuracy: 0.9602\n",
            "\n",
            "Epoch 00030: saving model to /content/gdrive/My Drive/Checkpoints_EMNIST/cp4.ckpt\n",
            "Epoch 31/100\n",
            "29233/29233 [==============================] - 30s 1ms/step - loss: 0.2063 - accuracy: 0.9338 - val_loss: 0.1347 - val_accuracy: 0.9616\n",
            "\n",
            "Epoch 00031: saving model to /content/gdrive/My Drive/Checkpoints_EMNIST/cp4.ckpt\n",
            "Epoch 32/100\n",
            "29233/29233 [==============================] - 30s 1ms/step - loss: 0.2026 - accuracy: 0.9346 - val_loss: 0.1332 - val_accuracy: 0.9616\n",
            "\n",
            "Epoch 00032: saving model to /content/gdrive/My Drive/Checkpoints_EMNIST/cp4.ckpt\n",
            "Epoch 33/100\n",
            "29233/29233 [==============================] - 30s 1ms/step - loss: 0.1973 - accuracy: 0.9367 - val_loss: 0.1285 - val_accuracy: 0.9626\n",
            "\n",
            "Epoch 00033: saving model to /content/gdrive/My Drive/Checkpoints_EMNIST/cp4.ckpt\n",
            "Epoch 34/100\n",
            "29233/29233 [==============================] - 30s 1ms/step - loss: 0.1907 - accuracy: 0.9398 - val_loss: 0.1260 - val_accuracy: 0.9643\n",
            "\n",
            "Epoch 00034: saving model to /content/gdrive/My Drive/Checkpoints_EMNIST/cp4.ckpt\n",
            "Epoch 35/100\n",
            "29233/29233 [==============================] - 30s 1ms/step - loss: 0.1838 - accuracy: 0.9400 - val_loss: 0.1274 - val_accuracy: 0.9634\n",
            "\n",
            "Epoch 00035: saving model to /content/gdrive/My Drive/Checkpoints_EMNIST/cp4.ckpt\n",
            "Epoch 36/100\n",
            "29233/29233 [==============================] - 30s 1ms/step - loss: 0.1837 - accuracy: 0.9406 - val_loss: 0.1226 - val_accuracy: 0.9638\n",
            "\n",
            "Epoch 00036: saving model to /content/gdrive/My Drive/Checkpoints_EMNIST/cp4.ckpt\n",
            "Epoch 37/100\n",
            "29233/29233 [==============================] - 30s 1ms/step - loss: 0.1810 - accuracy: 0.9413 - val_loss: 0.1209 - val_accuracy: 0.9639\n",
            "\n",
            "Epoch 00037: saving model to /content/gdrive/My Drive/Checkpoints_EMNIST/cp4.ckpt\n",
            "Epoch 38/100\n",
            "29233/29233 [==============================] - 30s 1ms/step - loss: 0.1791 - accuracy: 0.9416 - val_loss: 0.1217 - val_accuracy: 0.9634\n",
            "\n",
            "Epoch 00038: saving model to /content/gdrive/My Drive/Checkpoints_EMNIST/cp4.ckpt\n",
            "Epoch 39/100\n",
            "29233/29233 [==============================] - 30s 1ms/step - loss: 0.1746 - accuracy: 0.9421 - val_loss: 0.1181 - val_accuracy: 0.9653\n",
            "\n",
            "Epoch 00039: saving model to /content/gdrive/My Drive/Checkpoints_EMNIST/cp4.ckpt\n",
            "Epoch 40/100\n",
            "29233/29233 [==============================] - 30s 1ms/step - loss: 0.1715 - accuracy: 0.9435 - val_loss: 0.1168 - val_accuracy: 0.9636\n",
            "\n",
            "Epoch 00040: saving model to /content/gdrive/My Drive/Checkpoints_EMNIST/cp4.ckpt\n",
            "Epoch 41/100\n",
            "29233/29233 [==============================] - 30s 1ms/step - loss: 0.1671 - accuracy: 0.9459 - val_loss: 0.1162 - val_accuracy: 0.9651\n",
            "\n",
            "Epoch 00041: saving model to /content/gdrive/My Drive/Checkpoints_EMNIST/cp4.ckpt\n",
            "Epoch 42/100\n",
            "29233/29233 [==============================] - 30s 1ms/step - loss: 0.1656 - accuracy: 0.9454 - val_loss: 0.1129 - val_accuracy: 0.9671\n",
            "\n",
            "Epoch 00042: saving model to /content/gdrive/My Drive/Checkpoints_EMNIST/cp4.ckpt\n",
            "Epoch 43/100\n",
            "29233/29233 [==============================] - 30s 1ms/step - loss: 0.1678 - accuracy: 0.9436 - val_loss: 0.1124 - val_accuracy: 0.9654\n",
            "\n",
            "Epoch 00043: saving model to /content/gdrive/My Drive/Checkpoints_EMNIST/cp4.ckpt\n",
            "Epoch 44/100\n",
            "29233/29233 [==============================] - 30s 1ms/step - loss: 0.1617 - accuracy: 0.9475 - val_loss: 0.1097 - val_accuracy: 0.9671\n",
            "\n",
            "Epoch 00044: saving model to /content/gdrive/My Drive/Checkpoints_EMNIST/cp4.ckpt\n",
            "Epoch 45/100\n",
            "29233/29233 [==============================] - 30s 1ms/step - loss: 0.1568 - accuracy: 0.9471 - val_loss: 0.1089 - val_accuracy: 0.9671\n",
            "\n",
            "Epoch 00045: saving model to /content/gdrive/My Drive/Checkpoints_EMNIST/cp4.ckpt\n",
            "Epoch 46/100\n",
            "29233/29233 [==============================] - 30s 1ms/step - loss: 0.1582 - accuracy: 0.9469 - val_loss: 0.1087 - val_accuracy: 0.9684\n",
            "\n",
            "Epoch 00046: saving model to /content/gdrive/My Drive/Checkpoints_EMNIST/cp4.ckpt\n",
            "Epoch 47/100\n",
            "29233/29233 [==============================] - 30s 1ms/step - loss: 0.1579 - accuracy: 0.9477 - val_loss: 0.1085 - val_accuracy: 0.9673\n",
            "\n",
            "Epoch 00047: saving model to /content/gdrive/My Drive/Checkpoints_EMNIST/cp4.ckpt\n",
            "Epoch 48/100\n",
            "29233/29233 [==============================] - 30s 1ms/step - loss: 0.1512 - accuracy: 0.9501 - val_loss: 0.1072 - val_accuracy: 0.9673\n",
            "\n",
            "Epoch 00048: saving model to /content/gdrive/My Drive/Checkpoints_EMNIST/cp4.ckpt\n",
            "Epoch 49/100\n",
            "29233/29233 [==============================] - 30s 1ms/step - loss: 0.1553 - accuracy: 0.9491 - val_loss: 0.1061 - val_accuracy: 0.9675\n",
            "\n",
            "Epoch 00049: saving model to /content/gdrive/My Drive/Checkpoints_EMNIST/cp4.ckpt\n",
            "Epoch 50/100\n",
            "29233/29233 [==============================] - 33s 1ms/step - loss: 0.1481 - accuracy: 0.9510 - val_loss: 0.1048 - val_accuracy: 0.9684\n",
            "\n",
            "Epoch 00050: saving model to /content/gdrive/My Drive/Checkpoints_EMNIST/cp4.ckpt\n",
            "Epoch 51/100\n",
            "29233/29233 [==============================] - 30s 1ms/step - loss: 0.1467 - accuracy: 0.9517 - val_loss: 0.1037 - val_accuracy: 0.9690\n",
            "\n",
            "Epoch 00051: saving model to /content/gdrive/My Drive/Checkpoints_EMNIST/cp4.ckpt\n",
            "Epoch 52/100\n",
            "29233/29233 [==============================] - 30s 1ms/step - loss: 0.1483 - accuracy: 0.9495 - val_loss: 0.1054 - val_accuracy: 0.9692\n",
            "\n",
            "Epoch 00052: saving model to /content/gdrive/My Drive/Checkpoints_EMNIST/cp4.ckpt\n",
            "Epoch 53/100\n",
            "29233/29233 [==============================] - 30s 1ms/step - loss: 0.1433 - accuracy: 0.9506 - val_loss: 0.1011 - val_accuracy: 0.9688\n",
            "\n",
            "Epoch 00053: saving model to /content/gdrive/My Drive/Checkpoints_EMNIST/cp4.ckpt\n",
            "Epoch 54/100\n",
            "29233/29233 [==============================] - 30s 1ms/step - loss: 0.1435 - accuracy: 0.9512 - val_loss: 0.0997 - val_accuracy: 0.9696\n",
            "\n",
            "Epoch 00054: saving model to /content/gdrive/My Drive/Checkpoints_EMNIST/cp4.ckpt\n",
            "Epoch 55/100\n",
            "29233/29233 [==============================] - 30s 1ms/step - loss: 0.1416 - accuracy: 0.9529 - val_loss: 0.1001 - val_accuracy: 0.9691\n",
            "\n",
            "Epoch 00055: saving model to /content/gdrive/My Drive/Checkpoints_EMNIST/cp4.ckpt\n",
            "Epoch 56/100\n",
            "29233/29233 [==============================] - 30s 1ms/step - loss: 0.1356 - accuracy: 0.9540 - val_loss: 0.1001 - val_accuracy: 0.9691\n",
            "\n",
            "Epoch 00056: saving model to /content/gdrive/My Drive/Checkpoints_EMNIST/cp4.ckpt\n",
            "Epoch 57/100\n",
            "29233/29233 [==============================] - 30s 1ms/step - loss: 0.1397 - accuracy: 0.9534 - val_loss: 0.0997 - val_accuracy: 0.9696\n",
            "\n",
            "Epoch 00057: saving model to /content/gdrive/My Drive/Checkpoints_EMNIST/cp4.ckpt\n",
            "Epoch 58/100\n",
            "29233/29233 [==============================] - 30s 1ms/step - loss: 0.1364 - accuracy: 0.9538 - val_loss: 0.1011 - val_accuracy: 0.9700\n",
            "\n",
            "Epoch 00058: saving model to /content/gdrive/My Drive/Checkpoints_EMNIST/cp4.ckpt\n",
            "Epoch 59/100\n",
            "29233/29233 [==============================] - 30s 1ms/step - loss: 0.1302 - accuracy: 0.9558 - val_loss: 0.0964 - val_accuracy: 0.9711\n",
            "\n",
            "Epoch 00059: saving model to /content/gdrive/My Drive/Checkpoints_EMNIST/cp4.ckpt\n",
            "Epoch 60/100\n",
            "29233/29233 [==============================] - 30s 1ms/step - loss: 0.1272 - accuracy: 0.9566 - val_loss: 0.0984 - val_accuracy: 0.9702\n",
            "\n",
            "Epoch 00060: saving model to /content/gdrive/My Drive/Checkpoints_EMNIST/cp4.ckpt\n",
            "Epoch 61/100\n",
            "29233/29233 [==============================] - 30s 1ms/step - loss: 0.1305 - accuracy: 0.9544 - val_loss: 0.0943 - val_accuracy: 0.9706\n",
            "\n",
            "Epoch 00061: saving model to /content/gdrive/My Drive/Checkpoints_EMNIST/cp4.ckpt\n",
            "Epoch 62/100\n",
            "29233/29233 [==============================] - 30s 1ms/step - loss: 0.1300 - accuracy: 0.9555 - val_loss: 0.0963 - val_accuracy: 0.9700\n",
            "\n",
            "Epoch 00062: saving model to /content/gdrive/My Drive/Checkpoints_EMNIST/cp4.ckpt\n",
            "Epoch 63/100\n",
            "29233/29233 [==============================] - 30s 1ms/step - loss: 0.1250 - accuracy: 0.9574 - val_loss: 0.0951 - val_accuracy: 0.9699\n",
            "\n",
            "Epoch 00063: saving model to /content/gdrive/My Drive/Checkpoints_EMNIST/cp4.ckpt\n",
            "Epoch 64/100\n",
            "29233/29233 [==============================] - 30s 1ms/step - loss: 0.1257 - accuracy: 0.9572 - val_loss: 0.0934 - val_accuracy: 0.9720\n",
            "\n",
            "Epoch 00064: saving model to /content/gdrive/My Drive/Checkpoints_EMNIST/cp4.ckpt\n",
            "Epoch 65/100\n",
            "29233/29233 [==============================] - 30s 1ms/step - loss: 0.1270 - accuracy: 0.9569 - val_loss: 0.0943 - val_accuracy: 0.9699\n",
            "\n",
            "Epoch 00065: saving model to /content/gdrive/My Drive/Checkpoints_EMNIST/cp4.ckpt\n",
            "Epoch 66/100\n",
            "29233/29233 [==============================] - 30s 1ms/step - loss: 0.1237 - accuracy: 0.9569 - val_loss: 0.0931 - val_accuracy: 0.9710\n",
            "\n",
            "Epoch 00066: saving model to /content/gdrive/My Drive/Checkpoints_EMNIST/cp4.ckpt\n",
            "Epoch 67/100\n",
            "29233/29233 [==============================] - 30s 1ms/step - loss: 0.1224 - accuracy: 0.9578 - val_loss: 0.0945 - val_accuracy: 0.9717\n",
            "\n",
            "Epoch 00067: saving model to /content/gdrive/My Drive/Checkpoints_EMNIST/cp4.ckpt\n",
            "Epoch 68/100\n",
            "29233/29233 [==============================] - 30s 1ms/step - loss: 0.1237 - accuracy: 0.9577 - val_loss: 0.0921 - val_accuracy: 0.9705\n",
            "\n",
            "Epoch 00068: saving model to /content/gdrive/My Drive/Checkpoints_EMNIST/cp4.ckpt\n",
            "Epoch 69/100\n",
            "29233/29233 [==============================] - 30s 1ms/step - loss: 0.1199 - accuracy: 0.9580 - val_loss: 0.0905 - val_accuracy: 0.9721\n",
            "\n",
            "Epoch 00069: saving model to /content/gdrive/My Drive/Checkpoints_EMNIST/cp4.ckpt\n",
            "Epoch 70/100\n",
            "29233/29233 [==============================] - 33s 1ms/step - loss: 0.1201 - accuracy: 0.9590 - val_loss: 0.0944 - val_accuracy: 0.9725\n",
            "\n",
            "Epoch 00070: saving model to /content/gdrive/My Drive/Checkpoints_EMNIST/cp4.ckpt\n",
            "Epoch 71/100\n",
            "29233/29233 [==============================] - 30s 1ms/step - loss: 0.1179 - accuracy: 0.9599 - val_loss: 0.0946 - val_accuracy: 0.9722\n",
            "\n",
            "Epoch 00071: saving model to /content/gdrive/My Drive/Checkpoints_EMNIST/cp4.ckpt\n",
            "Epoch 72/100\n",
            "29233/29233 [==============================] - 30s 1ms/step - loss: 0.1188 - accuracy: 0.9588 - val_loss: 0.0911 - val_accuracy: 0.9717\n",
            "\n",
            "Epoch 00072: saving model to /content/gdrive/My Drive/Checkpoints_EMNIST/cp4.ckpt\n",
            "Epoch 73/100\n",
            "29233/29233 [==============================] - 30s 1ms/step - loss: 0.1194 - accuracy: 0.9588 - val_loss: 0.0897 - val_accuracy: 0.9717\n",
            "\n",
            "Epoch 00073: saving model to /content/gdrive/My Drive/Checkpoints_EMNIST/cp4.ckpt\n",
            "Epoch 74/100\n",
            "29233/29233 [==============================] - 30s 1ms/step - loss: 0.1120 - accuracy: 0.9623 - val_loss: 0.0908 - val_accuracy: 0.9696\n",
            "\n",
            "Epoch 00074: saving model to /content/gdrive/My Drive/Checkpoints_EMNIST/cp4.ckpt\n",
            "Epoch 75/100\n",
            "29233/29233 [==============================] - 30s 1ms/step - loss: 0.1094 - accuracy: 0.9620 - val_loss: 0.0911 - val_accuracy: 0.9703\n",
            "\n",
            "Epoch 00075: saving model to /content/gdrive/My Drive/Checkpoints_EMNIST/cp4.ckpt\n",
            "Epoch 76/100\n",
            "29233/29233 [==============================] - 30s 1ms/step - loss: 0.1104 - accuracy: 0.9620 - val_loss: 0.0908 - val_accuracy: 0.9729\n",
            "\n",
            "Epoch 00076: saving model to /content/gdrive/My Drive/Checkpoints_EMNIST/cp4.ckpt\n",
            "Epoch 77/100\n",
            "29233/29233 [==============================] - 30s 1ms/step - loss: 0.1113 - accuracy: 0.9607 - val_loss: 0.0901 - val_accuracy: 0.9739\n",
            "\n",
            "Epoch 00077: saving model to /content/gdrive/My Drive/Checkpoints_EMNIST/cp4.ckpt\n",
            "Epoch 78/100\n",
            "29233/29233 [==============================] - 30s 1ms/step - loss: 0.1079 - accuracy: 0.9624 - val_loss: 0.0905 - val_accuracy: 0.9729\n",
            "\n",
            "Epoch 00078: saving model to /content/gdrive/My Drive/Checkpoints_EMNIST/cp4.ckpt\n",
            "Epoch 79/100\n",
            "29233/29233 [==============================] - 30s 1ms/step - loss: 0.1102 - accuracy: 0.9609 - val_loss: 0.0905 - val_accuracy: 0.9714\n",
            "\n",
            "Epoch 00079: saving model to /content/gdrive/My Drive/Checkpoints_EMNIST/cp4.ckpt\n",
            "Epoch 80/100\n",
            "29233/29233 [==============================] - 30s 1ms/step - loss: 0.1085 - accuracy: 0.9626 - val_loss: 0.0922 - val_accuracy: 0.9722\n",
            "\n",
            "Epoch 00080: saving model to /content/gdrive/My Drive/Checkpoints_EMNIST/cp4.ckpt\n",
            "Epoch 81/100\n",
            "29233/29233 [==============================] - 30s 1ms/step - loss: 0.1065 - accuracy: 0.9630 - val_loss: 0.0898 - val_accuracy: 0.9714\n",
            "\n",
            "Epoch 00081: saving model to /content/gdrive/My Drive/Checkpoints_EMNIST/cp4.ckpt\n",
            "Epoch 82/100\n",
            "29233/29233 [==============================] - 30s 1ms/step - loss: 0.1079 - accuracy: 0.9614 - val_loss: 0.0893 - val_accuracy: 0.9728\n",
            "\n",
            "Epoch 00082: saving model to /content/gdrive/My Drive/Checkpoints_EMNIST/cp4.ckpt\n",
            "Epoch 83/100\n",
            "29233/29233 [==============================] - 30s 1ms/step - loss: 0.1084 - accuracy: 0.9620 - val_loss: 0.0871 - val_accuracy: 0.9725\n",
            "\n",
            "Epoch 00083: saving model to /content/gdrive/My Drive/Checkpoints_EMNIST/cp4.ckpt\n",
            "Epoch 84/100\n",
            "29233/29233 [==============================] - 30s 1ms/step - loss: 0.1054 - accuracy: 0.9638 - val_loss: 0.0889 - val_accuracy: 0.9714\n",
            "\n",
            "Epoch 00084: saving model to /content/gdrive/My Drive/Checkpoints_EMNIST/cp4.ckpt\n",
            "Epoch 85/100\n",
            "29233/29233 [==============================] - 30s 1ms/step - loss: 0.1015 - accuracy: 0.9656 - val_loss: 0.0888 - val_accuracy: 0.9740\n",
            "\n",
            "Epoch 00085: saving model to /content/gdrive/My Drive/Checkpoints_EMNIST/cp4.ckpt\n",
            "Epoch 86/100\n",
            "29233/29233 [==============================] - 30s 1ms/step - loss: 0.1018 - accuracy: 0.9640 - val_loss: 0.0861 - val_accuracy: 0.9720\n",
            "\n",
            "Epoch 00086: saving model to /content/gdrive/My Drive/Checkpoints_EMNIST/cp4.ckpt\n",
            "Epoch 87/100\n",
            "29233/29233 [==============================] - 30s 1ms/step - loss: 0.1036 - accuracy: 0.9629 - val_loss: 0.0876 - val_accuracy: 0.9736\n",
            "\n",
            "Epoch 00087: saving model to /content/gdrive/My Drive/Checkpoints_EMNIST/cp4.ckpt\n",
            "Epoch 88/100\n",
            "29233/29233 [==============================] - 30s 1ms/step - loss: 0.1041 - accuracy: 0.9643 - val_loss: 0.0861 - val_accuracy: 0.9733\n",
            "\n",
            "Epoch 00088: saving model to /content/gdrive/My Drive/Checkpoints_EMNIST/cp4.ckpt\n",
            "Epoch 89/100\n",
            "29233/29233 [==============================] - 30s 1ms/step - loss: 0.1057 - accuracy: 0.9645 - val_loss: 0.0859 - val_accuracy: 0.9739\n",
            "\n",
            "Epoch 00089: saving model to /content/gdrive/My Drive/Checkpoints_EMNIST/cp4.ckpt\n",
            "Epoch 90/100\n",
            "29233/29233 [==============================] - 33s 1ms/step - loss: 0.1058 - accuracy: 0.9626 - val_loss: 0.0878 - val_accuracy: 0.9732\n",
            "\n",
            "Epoch 00090: saving model to /content/gdrive/My Drive/Checkpoints_EMNIST/cp4.ckpt\n",
            "Epoch 91/100\n",
            "29233/29233 [==============================] - 30s 1ms/step - loss: 0.0987 - accuracy: 0.9651 - val_loss: 0.0867 - val_accuracy: 0.9740\n",
            "\n",
            "Epoch 00091: saving model to /content/gdrive/My Drive/Checkpoints_EMNIST/cp4.ckpt\n",
            "Epoch 92/100\n",
            "29233/29233 [==============================] - 30s 1ms/step - loss: 0.0968 - accuracy: 0.9660 - val_loss: 0.0885 - val_accuracy: 0.9714\n",
            "\n",
            "Epoch 00092: saving model to /content/gdrive/My Drive/Checkpoints_EMNIST/cp4.ckpt\n",
            "Epoch 93/100\n",
            "29233/29233 [==============================] - 30s 1ms/step - loss: 0.0977 - accuracy: 0.9664 - val_loss: 0.0860 - val_accuracy: 0.9745\n",
            "\n",
            "Epoch 00093: saving model to /content/gdrive/My Drive/Checkpoints_EMNIST/cp4.ckpt\n",
            "Epoch 94/100\n",
            "29233/29233 [==============================] - 30s 1ms/step - loss: 0.0999 - accuracy: 0.9656 - val_loss: 0.0874 - val_accuracy: 0.9728\n",
            "\n",
            "Epoch 00094: saving model to /content/gdrive/My Drive/Checkpoints_EMNIST/cp4.ckpt\n",
            "Epoch 95/100\n",
            "29233/29233 [==============================] - 30s 1ms/step - loss: 0.0968 - accuracy: 0.9669 - val_loss: 0.0866 - val_accuracy: 0.9715\n",
            "\n",
            "Epoch 00095: saving model to /content/gdrive/My Drive/Checkpoints_EMNIST/cp4.ckpt\n",
            "Epoch 96/100\n",
            "29233/29233 [==============================] - 30s 1ms/step - loss: 0.0983 - accuracy: 0.9652 - val_loss: 0.0835 - val_accuracy: 0.9744\n",
            "\n",
            "Epoch 00096: saving model to /content/gdrive/My Drive/Checkpoints_EMNIST/cp4.ckpt\n",
            "Epoch 97/100\n",
            "29233/29233 [==============================] - 30s 1ms/step - loss: 0.0960 - accuracy: 0.9673 - val_loss: 0.0853 - val_accuracy: 0.9744\n",
            "\n",
            "Epoch 00097: saving model to /content/gdrive/My Drive/Checkpoints_EMNIST/cp4.ckpt\n",
            "Epoch 98/100\n",
            "29233/29233 [==============================] - 30s 1ms/step - loss: 0.0997 - accuracy: 0.9648 - val_loss: 0.0861 - val_accuracy: 0.9728\n",
            "\n",
            "Epoch 00098: saving model to /content/gdrive/My Drive/Checkpoints_EMNIST/cp4.ckpt\n",
            "Epoch 99/100\n",
            "29233/29233 [==============================] - 30s 1ms/step - loss: 0.0943 - accuracy: 0.9671 - val_loss: 0.0844 - val_accuracy: 0.9739\n",
            "\n",
            "Epoch 00099: saving model to /content/gdrive/My Drive/Checkpoints_EMNIST/cp4.ckpt\n",
            "Epoch 100/100\n",
            "29233/29233 [==============================] - 30s 1ms/step - loss: 0.0966 - accuracy: 0.9657 - val_loss: 0.0845 - val_accuracy: 0.9736\n",
            "\n",
            "Epoch 00100: saving model to /content/gdrive/My Drive/Checkpoints_EMNIST/cp4.ckpt\n"
          ],
          "name": "stdout"
        }
      ]
    },
    {
      "cell_type": "code",
      "metadata": {
        "id": "cYlWudFVwdlW",
        "colab_type": "code",
        "outputId": "a7f8ada1-161b-4a27-fd6f-a804ba706e20",
        "colab": {
          "base_uri": "https://localhost:8080/",
          "height": 573
        }
      },
      "source": [
        "# Plot training & validation accuracy values\n",
        "plt.plot(history.history['accuracy'])\n",
        "plt.plot(history.history['val_accuracy'])\n",
        "plt.title('Model accuracy')\n",
        "plt.ylabel('Accuracy')\n",
        "plt.xlabel('Epoch')\n",
        "plt.legend(['Train', 'Validation'], loc='upper left')\n",
        "plt.savefig(\"/content/gdrive/My Drive/Checkpoints_EMNIST/acc1.png\", bbox_inches='tight')\n",
        "plt.show()\n",
        "\n",
        "\n",
        "# Plot training & validation loss values\n",
        "plt.plot(history.history['loss'])\n",
        "plt.plot(history.history['val_loss'])\n",
        "plt.title('Model loss')\n",
        "plt.ylabel('Loss')\n",
        "plt.xlabel('Epoch')\n",
        "plt.legend(['Train', 'Validation'], loc='upper left')\n",
        "plt.savefig(\"/content/gdrive/My Drive/Checkpoints_EMNIST/loss1.png\", bbox_inches='tight')\n",
        "plt.show()\n"
      ],
      "execution_count": 0,
      "outputs": [
        {
          "output_type": "display_data",
          "data": {
            "image/png": "[encoded data removed]",
            "text/plain": [
              "<Figure size 432x288 with 1 Axes>"
            ]
          },
          "metadata": {
            "tags": [],
            "needs_background": "light"
          }
        },
        {
          "output_type": "display_data",
          "data": {
            "image/png": "[encoded data removed]",
            "text/plain": [
              "<Figure size 432x288 with 1 Axes>"
            ]
          },
          "metadata": {
            "tags": [],
            "needs_background": "light"
          }
        }
      ]
    },
    {
      "cell_type": "code",
      "metadata": {
        "id": "WcGNX4M5lLel",
        "colab_type": "code",
        "outputId": "fd0ef4a3-67da-4d0d-dea5-878fb559bca6",
        "colab": {
          "base_uri": "https://localhost:8080/",
          "height": 51
        }
      },
      "source": [
        "model.evaluate(x_val, y_val)"
      ],
      "execution_count": 0,
      "outputs": [
        {
          "output_type": "stream",
          "text": [
            "7345/7345 [==============================] - 2s 284us/step\n"
          ],
          "name": "stdout"
        },
        {
          "output_type": "execute_result",
          "data": {
            "text/plain": [
              "[0.0844577991115028, 0.9735874533653259]"
            ]
          },
          "metadata": {
            "tags": []
          },
          "execution_count": 177
        }
      ]
    },
    {
      "cell_type": "code",
      "metadata": {
        "id": "7r9CNG0Emy3M",
        "colab_type": "code",
        "outputId": "7d8e10f2-da24-4298-f4e2-1ac4105bef05",
        "colab": {
          "base_uri": "https://localhost:8080/",
          "height": 316
        }
      },
      "source": [
        "image_index = 100\n",
        "print(x_test[image_index].shape)\n",
        "print(type(x_test[image_index]))\n",
        "plt.imshow(x_test[image_index].reshape(28, 28),cmap='Greys')\n",
        "pred = model.predict(x_test[image_index].reshape(1, 28, 28, 1))\n",
        "print(pred.argmax())"
      ],
      "execution_count": 0,
      "outputs": [
        {
          "output_type": "stream",
          "text": [
            "(28, 28)\n",
            "<class 'numpy.ndarray'>\n",
            "0\n"
          ],
          "name": "stdout"
        },
        {
          "output_type": "display_data",
          "data": {
            "image/png": "[encoded data removed]",
            "text/plain": [
              "<Figure size 432x288 with 1 Axes>"
            ]
          },
          "metadata": {
            "tags": [],
            "needs_background": "light"
          }
        }
      ]
    },
    {
      "cell_type": "code",
      "metadata": {
        "id": "ne97vVvXnYkW",
        "colab_type": "code",
        "outputId": "a30a751a-e4ac-4a4e-f126-a069a2033c9c",
        "colab": {
          "base_uri": "https://localhost:8080/",
          "height": 51
        }
      },
      "source": [
        "import pathlib\n",
        "data = pathlib.Path('/content/gdrive/My Drive/Recognition_Dataset_Test/Z') \n",
        "test_data = list(data.glob('*.png'))\n",
        "print(test_data[0])\n",
        "count = len(test_data)\n",
        "count"
      ],
      "execution_count": 0,
      "outputs": [
        {
          "output_type": "stream",
          "text": [
            "/content/gdrive/My Drive/Recognition_Dataset_Test/Z/237__2.png\n"
          ],
          "name": "stdout"
        },
        {
          "output_type": "execute_result",
          "data": {
            "text/plain": [
              "45"
            ]
          },
          "metadata": {
            "tags": []
          },
          "execution_count": 260
        }
      ]
    },
    {
      "cell_type": "code",
      "metadata": {
        "id": "QORymeynoTBx",
        "colab_type": "code",
        "outputId": "e10537bb-d4b2-4c6e-a497-f0a9e78baadc",
        "colab": {
          "base_uri": "https://localhost:8080/",
          "height": 307
        }
      },
      "source": [
        "from PIL import Image\n",
        "import numpy as np\n",
        "fig = plt.figure(figsize = (20, 5))\n",
        "count = 0\n",
        "for image_path in test_data[0:20]:\n",
        "    a = Image.open(str(image_path))\n",
        "    a = a.resize((28,28))\n",
        "    k = np.asarray(a)\n",
        "    e =  np.expand_dims(k, axis=2)\n",
        "    ax = fig.add_subplot(2, 10, count+1)\n",
        "    plt.imshow(k,cmap='Greys')\n",
        "    pred = model.predict(e.reshape(1, 28, 28, 1))\n",
        "    if(pred.argmax() > 9):\n",
        "      res = letter_dict[str(pred.argmax())]\n",
        "    else:\n",
        "      res = pred.argmax()\n",
        "    count +=1\n",
        "    ax.set_title(res)"
      ],
      "execution_count": 0,
      "outputs": [
        {
          "output_type": "display_data",
          "data": {
            "image/png": "[encoded data removed]",
            "text/plain": [
              "<Figure size 1440x360 with 20 Axes>"
            ]
          },
          "metadata": {
            "tags": [],
            "needs_background": "light"
          }
        }
      ]
    },
    {
      "cell_type": "code",
      "metadata": {
        "id": "ExSwehT5Obdh",
        "colab_type": "code",
        "colab": {}
      },
      "source": [
        "#new_model = create_model()\n",
        "#new_model.load_weights(\"/content/gdrive/My Drive/Checkpoints_EMNIST/cp.ckpt\")"
      ],
      "execution_count": 0,
      "outputs": []
    },
    {
      "cell_type": "code",
      "metadata": {
        "id": "M6DIDnIasQlg",
        "colab_type": "code",
        "outputId": "1fef45b7-841d-4972-df7f-cbfcdcc2de49",
        "colab": {
          "base_uri": "https://localhost:8080/",
          "height": 51
        }
      },
      "source": [
        "xnew_val = x_test.reshape(x_test.shape[0], 28, 28, 1)\n",
        "input_shape = (28, 28, 1)\n",
        "xnew_val = xnew_val.astype('float32')\n",
        "xnew_val /= 255\n",
        "model.evaluate(xnew_val, y_test)"
      ],
      "execution_count": 0,
      "outputs": [
        {
          "output_type": "stream",
          "text": [
            "2979/2979 [==============================] - 1s 283us/step\n"
          ],
          "name": "stdout"
        },
        {
          "output_type": "execute_result",
          "data": {
            "text/plain": [
              "[0.3295752756256331, 0.9328633546829224]"
            ]
          },
          "metadata": {
            "tags": []
          },
          "execution_count": 181
        }
      ]
    }
  ]
}